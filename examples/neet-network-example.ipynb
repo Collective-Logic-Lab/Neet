{
 "cells": [
  {
   "cell_type": "code",
   "execution_count": null,
   "id": "5fda4d39",
   "metadata": {},
   "outputs": [],
   "source": [
    "# neet-network-example.ipynb\n",
    "#\n",
    "# Bryan Daniels\n",
    "# 2022/6/29 - 2023/5/15\n",
    "#\n",
    "# Examples of setting up networks from scratch in neet and computing control kernels.\n",
    "#"
   ]
  },
  {
   "cell_type": "code",
   "execution_count": 1,
   "id": "1468ef1c",
   "metadata": {},
   "outputs": [],
   "source": [
    "from neet import boolean"
   ]
  },
  {
   "cell_type": "markdown",
   "id": "cdf84147",
   "metadata": {},
   "source": [
    "# Creating a logic network"
   ]
  },
  {
   "cell_type": "markdown",
   "id": "18e3aa3a",
   "metadata": {},
   "source": [
    "A `LogicNetwork` works using a logic \"table\".  Each row of the logic table specifies one node's inputs and which combinations of those inputs will result in that node becoming active (see the documentation for `boolean.LogicNetwork` for more details).  The Cell Collective networks are implemented as logic networks."
   ]
  },
  {
   "cell_type": "markdown",
   "id": "e69d0a2f",
   "metadata": {},
   "source": [
    "Here's a random example of a logic table for a network of size 3:"
   ]
  },
  {
   "cell_type": "code",
   "execution_count": 2,
   "id": "6a7cca29",
   "metadata": {},
   "outputs": [],
   "source": [
    "table = [((1,2),{\"00\",\"01\"}),\n",
    "         ((0,1),{\"11\"}),\n",
    "         ((1,), {\"0\"})]"
   ]
  },
  {
   "cell_type": "code",
   "execution_count": 3,
   "id": "dbb187c6",
   "metadata": {},
   "outputs": [],
   "source": [
    "net1 = boolean.LogicNetwork(table)"
   ]
  },
  {
   "cell_type": "code",
   "execution_count": 4,
   "id": "a0ef5632",
   "metadata": {},
   "outputs": [
    {
     "data": {
      "text/plain": [
       "[1, 0, 1]"
      ]
     },
     "execution_count": 4,
     "metadata": {},
     "output_type": "execute_result"
    }
   ],
   "source": [
    "net1.update([0,0,1])"
   ]
  },
  {
   "cell_type": "markdown",
   "id": "4bb7a114",
   "metadata": {},
   "source": [
    "# Creating a weight-threshold network"
   ]
  },
  {
   "cell_type": "markdown",
   "id": "142b4336",
   "metadata": {},
   "source": [
    "Another type of network is the \"weight-threshold\" network (`boolean.WTnetwork`).  In this type, you specify a weight matrix for how strongly the state of node `i` influences node `j`, along with a threshold for each node.  A node becomes active when the sum of incoming signals from other nodes exceeds its threshold (see the documentation for `boolean.WTNetwork` for more details)."
   ]
  },
  {
   "cell_type": "markdown",
   "id": "ccac36d5",
   "metadata": {},
   "source": [
    "A random example of a weight-threshold network (with different dynamics than the above network):"
   ]
  },
  {
   "cell_type": "code",
   "execution_count": 5,
   "id": "af0dcb1d",
   "metadata": {},
   "outputs": [],
   "source": [
    "weights = [[0,2,1],\n",
    "           [1,5,-2],\n",
    "           [0,1,0]]\n",
    "thresholds = [1,-1,0]"
   ]
  },
  {
   "cell_type": "code",
   "execution_count": 6,
   "id": "147a12b4",
   "metadata": {},
   "outputs": [],
   "source": [
    "net2 = boolean.WTNetwork(weights,thresholds)"
   ]
  },
  {
   "cell_type": "code",
   "execution_count": 7,
   "id": "34c8b666",
   "metadata": {
    "scrolled": true
   },
   "outputs": [
    {
     "data": {
      "text/plain": [
       "[0, 0, 1]"
      ]
     },
     "execution_count": 7,
     "metadata": {},
     "output_type": "execute_result"
    }
   ],
   "source": [
    "net2.update([0,0,1])"
   ]
  },
  {
   "cell_type": "markdown",
   "id": "5f5b0894",
   "metadata": {},
   "source": [
    "# Creating a network from a transition list"
   ]
  },
  {
   "cell_type": "markdown",
   "id": "d66451c1",
   "metadata": {},
   "source": [
    "Alternatively, one may define a network's dynamics by explicitly specifying the transition map for all network states.  Here, we start with a list of length $2^{(\\mathrm{\\#~of~nodes)}}$, where the entry at index $i$ gives the resulting network state at time $t+1$ given that the network starts at state $i$ at time $t$.  (Network states are encoded as integers using `net.encode`, and decoded back to binary lists using `net.decode`.)\n",
    "\n",
    "Note that the transition map does not uniquely define the network connectivity.  That is, there are in general many networks that produce the same dynamics.  The technique we use here for defining the dynamics simply results in each node's future state depending on the state of all nodes in the network."
   ]
  },
  {
   "cell_type": "markdown",
   "id": "733869bb",
   "metadata": {},
   "source": [
    "Here's an example network with 3 nodes and 4 fixed point attractors:"
   ]
  },
  {
   "cell_type": "code",
   "execution_count": 8,
   "id": "11442169",
   "metadata": {},
   "outputs": [],
   "source": [
    "from neet.boolean.TransitionNetwork import transitions_to_net"
   ]
  },
  {
   "cell_type": "code",
   "execution_count": 9,
   "id": "290fdd61",
   "metadata": {},
   "outputs": [
    {
     "data": {
      "text/plain": [
       "array([[0],\n",
       "       [1],\n",
       "       [2],\n",
       "       [3]])"
      ]
     },
     "execution_count": 9,
     "metadata": {},
     "output_type": "execute_result"
    }
   ],
   "source": [
    "transitions = [0,1,2,3,0,1,2,3]\n",
    "net3 = transitions_to_net(transitions)\n",
    "net3.attractors"
   ]
  },
  {
   "cell_type": "markdown",
   "id": "eabcb3bb",
   "metadata": {},
   "source": [
    "# Computing control kernels"
   ]
  },
  {
   "cell_type": "code",
   "execution_count": 10,
   "id": "f00874c1",
   "metadata": {},
   "outputs": [],
   "source": [
    "from neet.controlkernel.control_kernel_analysis import ck_analysis"
   ]
  },
  {
   "cell_type": "code",
   "execution_count": 11,
   "id": "ccb50518",
   "metadata": {},
   "outputs": [
    {
     "name": "stdout",
     "output_type": "stream",
     "text": [
      "Finding attractors and control kernels...\n"
     ]
    },
    {
     "data": {
      "text/plain": [
       "[{0, 1}, {0, 1}, {0, 1}, {0, 1}]"
      ]
     },
     "execution_count": 11,
     "metadata": {},
     "output_type": "execute_result"
    }
   ],
   "source": [
    "ck_analysis(net3)['control_kernels']"
   ]
  },
  {
   "cell_type": "code",
   "execution_count": 12,
   "id": "857a613a",
   "metadata": {},
   "outputs": [
    {
     "name": "stdout",
     "output_type": "stream",
     "text": [
      "---------\n",
      "Network 1\n",
      "---------\n",
      "Finding attractors and control kernels...\n",
      "Attractors: [[5]]\n",
      "Control kernels: [set()]\n",
      "\n",
      "---------\n",
      "Network 2\n",
      "---------\n",
      "Finding attractors and control kernels...\n",
      "Attractors: [[7]\n",
      " [4]\n",
      " [5]]\n",
      "Control kernels: [{1}, {0, 1, 2}, {0, 1, 2}]\n",
      "\n",
      "---------\n",
      "Network 3\n",
      "---------\n",
      "Finding attractors and control kernels...\n",
      "Attractors: [[0]\n",
      " [1]\n",
      " [2]\n",
      " [3]]\n",
      "Control kernels: [{0, 1}, {0, 1}, {0, 1}, {0, 1}]\n",
      "\n"
     ]
    }
   ],
   "source": [
    "for i,net in enumerate([net1,net2,net3]):\n",
    "    print(\"---------\")\n",
    "    print(\"Network {}\".format(i+1))\n",
    "    print(\"---------\")\n",
    "    ck_data = ck_analysis(net)\n",
    "    print(\"Attractors: {}\".format(ck_data['attractors']))\n",
    "    print(\"Control kernels: {}\".format(ck_data['control_kernels']))\n",
    "    print()"
   ]
  },
  {
   "cell_type": "code",
   "execution_count": null,
   "id": "5b5aafd6",
   "metadata": {},
   "outputs": [],
   "source": []
  }
 ],
 "metadata": {
  "kernelspec": {
   "display_name": "Python 3 (ipykernel)",
   "language": "python",
   "name": "python3"
  },
  "language_info": {
   "codemirror_mode": {
    "name": "ipython",
    "version": 3
   },
   "file_extension": ".py",
   "mimetype": "text/x-python",
   "name": "python",
   "nbconvert_exporter": "python",
   "pygments_lexer": "ipython3",
   "version": "3.9.16"
  }
 },
 "nbformat": 4,
 "nbformat_minor": 5
}
